{
  "nbformat": 4,
  "nbformat_minor": 0,
  "metadata": {
    "colab": {
      "provenance": []
    },
    "kernelspec": {
      "name": "python3",
      "display_name": "Python 3"
    },
    "language_info": {
      "name": "python"
    }
  },
  "cells": [
    {
      "cell_type": "code",
      "execution_count": null,
      "metadata": {
        "id": "CfQ7Jyf90FeY"
      },
      "outputs": [],
      "source": [
        "from sklearn.datasets import make_blobs\n",
        "\n",
        "X, y = make_blobs(n_samples=100, n_features=2, centers=2, random_state=41)"
      ]
    },
    {
      "cell_type": "code",
      "source": [
        "X"
      ],
      "metadata": {
        "colab": {
          "base_uri": "https://localhost:8080/"
        },
        "id": "rO0dm5jJ_sPl",
        "outputId": "ba90b2fe-bfc5-4a9d-f362-2af0725b6b3b"
      },
      "execution_count": null,
      "outputs": [
        {
          "output_type": "execute_result",
          "data": {
            "text/plain": [
              "array([[  3.29059705, -11.06454901],\n",
              "       [  2.78637996,  -8.78030401],\n",
              "       [ -5.77222806,  -9.24887243],\n",
              "       [  2.43248981,  -8.05817632],\n",
              "       [  4.26822243, -10.09704048],\n",
              "       [ -4.53241887, -10.02054615],\n",
              "       [ -4.85702585,  -8.96957489],\n",
              "       [ -4.82261808,  -8.69000797],\n",
              "       [ -3.81554312,  -9.02886909],\n",
              "       [  4.29654309,  -8.63599225],\n",
              "       [  3.51139898, -10.30283834],\n",
              "       [  2.90219825,  -9.69209316],\n",
              "       [ -4.09382546,  -9.02043195],\n",
              "       [ -6.3908568 , -10.17638081],\n",
              "       [  4.07900714,  -8.8018452 ],\n",
              "       [ -3.20765074,  -8.52230054],\n",
              "       [  4.24104702,  -8.67104189],\n",
              "       [  5.90166972,  -8.37970436],\n",
              "       [  3.96809073,  -9.0715136 ],\n",
              "       [ -5.55118147, -10.0552338 ],\n",
              "       [  6.50064716,  -8.20575988],\n",
              "       [ -5.62607864,  -8.41655193],\n",
              "       [ -5.42082879,  -9.79164396],\n",
              "       [  5.89687577,  -8.52035006],\n",
              "       [ -5.31163391, -10.59337353],\n",
              "       [ -6.20774337, -10.02609057],\n",
              "       [ -5.79983524, -10.0404672 ],\n",
              "       [  3.7749447 ,  -9.88178759],\n",
              "       [ -5.31107196, -11.91016227],\n",
              "       [ -4.10802279,  -7.94298339],\n",
              "       [ -5.75215924,  -9.11179488],\n",
              "       [  4.17758739,  -9.06755437],\n",
              "       [ -3.68856268,  -9.97339563],\n",
              "       [  3.57282242,  -9.42505916],\n",
              "       [  4.28781477,  -7.98173128],\n",
              "       [  4.83374494,  -8.84756284],\n",
              "       [  2.63809114,  -8.83369388],\n",
              "       [  4.64374983,  -8.20145682],\n",
              "       [  3.28868813,  -9.50811304],\n",
              "       [ -3.7331757 ,  -6.56774067],\n",
              "       [ -3.86721393, -10.45888618],\n",
              "       [ -6.16408119,  -9.13292961],\n",
              "       [  3.15337979,  -7.49425474],\n",
              "       [  3.26545364,  -9.25946873],\n",
              "       [  3.44946027,  -7.91559473],\n",
              "       [  3.62591009,  -9.46523477],\n",
              "       [ -6.21547825,  -9.58565335],\n",
              "       [  2.33053397, -10.32139666],\n",
              "       [ -3.57435603, -10.01918064],\n",
              "       [ -5.46827859, -10.07905415],\n",
              "       [  3.83334338,  -8.57862909],\n",
              "       [  4.20602502,  -9.22459282],\n",
              "       [ -4.2306562 , -10.34079628],\n",
              "       [ -5.15286398,  -9.53613872],\n",
              "       [ -4.73099971, -10.00328355],\n",
              "       [  2.03275055,  -9.14201949],\n",
              "       [ -3.96610301,  -8.8540023 ],\n",
              "       [ -5.13520348,  -8.28823178],\n",
              "       [  2.61314084,  -9.80236974],\n",
              "       [ -5.59130553,  -7.6086672 ],\n",
              "       [ -6.60091288,  -8.43518892],\n",
              "       [ -4.41438386, -10.1182638 ],\n",
              "       [ -3.48884869,  -8.37095836],\n",
              "       [ -3.37181325,  -8.21817684],\n",
              "       [ -3.78146734, -10.90070273],\n",
              "       [ -3.61367651, -10.93682301],\n",
              "       [ -5.71371252, -10.50636655],\n",
              "       [  4.14638867,  -8.6698881 ],\n",
              "       [  3.80895168,  -9.69629369],\n",
              "       [ -4.54418976,  -8.65985404],\n",
              "       [  2.51075935,  -9.385163  ],\n",
              "       [ -4.47058078,  -8.4467842 ],\n",
              "       [  5.00718294, -10.68482833],\n",
              "       [  2.51810338, -11.04857903],\n",
              "       [  3.95134502,  -9.27616818],\n",
              "       [  2.30171973,  -7.65981363],\n",
              "       [ -5.73396111,  -7.91928862],\n",
              "       [ -5.54983818, -11.18970194],\n",
              "       [ -6.84001778, -10.44870736],\n",
              "       [  3.34450556,  -9.91901395],\n",
              "       [ -6.01438677,  -7.93565621],\n",
              "       [ -4.04734657,  -9.01942805],\n",
              "       [  4.15752047,  -9.80310399],\n",
              "       [  3.84698883, -10.21181951],\n",
              "       [  3.22822801,  -8.73231006],\n",
              "       [ -6.99074488,  -9.31152317],\n",
              "       [  4.20645835,  -9.62615455],\n",
              "       [  3.93250092,  -8.61391719],\n",
              "       [ -5.96673056, -10.03645191],\n",
              "       [  3.79654392, -10.61444948],\n",
              "       [  4.41180845,  -8.08504064],\n",
              "       [ -4.71214298,  -9.52450796],\n",
              "       [ -3.17757516, -11.02675425],\n",
              "       [ -6.32030904,  -7.75802066],\n",
              "       [  5.01834311,  -9.00383188],\n",
              "       [  2.77318252,  -8.80037349],\n",
              "       [  4.50945294,  -9.85938167],\n",
              "       [  3.49836267,  -9.11775464],\n",
              "       [ -5.5302395 ,  -7.99806783],\n",
              "       [  2.08489879,  -8.47749638]])"
            ]
          },
          "metadata": {},
          "execution_count": 310
        }
      ]
    },
    {
      "cell_type": "code",
      "source": [
        "y"
      ],
      "metadata": {
        "colab": {
          "base_uri": "https://localhost:8080/"
        },
        "id": "XYKsTpip_ti6",
        "outputId": "04a0de7a-18ac-4263-bb17-d8c935f98e26"
      },
      "execution_count": null,
      "outputs": [
        {
          "output_type": "execute_result",
          "data": {
            "text/plain": [
              "array([1, 1, 0, 1, 1, 0, 0, 0, 0, 1, 1, 1, 0, 0, 1, 0, 1, 1, 1, 0, 1, 0,\n",
              "       0, 1, 0, 0, 0, 1, 0, 0, 0, 1, 0, 1, 1, 1, 1, 1, 1, 0, 0, 0, 1, 1,\n",
              "       1, 1, 0, 1, 0, 0, 1, 1, 0, 0, 0, 1, 0, 0, 1, 0, 0, 0, 0, 0, 0, 0,\n",
              "       0, 1, 1, 0, 1, 0, 1, 1, 1, 1, 0, 0, 0, 1, 0, 0, 1, 1, 1, 0, 1, 1,\n",
              "       0, 1, 1, 0, 0, 0, 1, 1, 1, 1, 0, 1])"
            ]
          },
          "metadata": {},
          "execution_count": 311
        }
      ]
    },
    {
      "cell_type": "code",
      "source": [
        "for i in range (X.shape[0]) :\n",
        "  if y[i] == 0 :\n",
        "    y[i] = -1"
      ],
      "metadata": {
        "id": "YwIoohkG0HO4"
      },
      "execution_count": null,
      "outputs": []
    },
    {
      "cell_type": "code",
      "source": [
        "y"
      ],
      "metadata": {
        "colab": {
          "base_uri": "https://localhost:8080/"
        },
        "id": "uhzTSFnY_x98",
        "outputId": "b26f4f5b-0409-4ca4-827e-4c03f7cfcdd4"
      },
      "execution_count": null,
      "outputs": [
        {
          "output_type": "execute_result",
          "data": {
            "text/plain": [
              "array([ 1,  1, -1,  1,  1, -1, -1, -1, -1,  1,  1,  1, -1, -1,  1, -1,  1,\n",
              "        1,  1, -1,  1, -1, -1,  1, -1, -1, -1,  1, -1, -1, -1,  1, -1,  1,\n",
              "        1,  1,  1,  1,  1, -1, -1, -1,  1,  1,  1,  1, -1,  1, -1, -1,  1,\n",
              "        1, -1, -1, -1,  1, -1, -1,  1, -1, -1, -1, -1, -1, -1, -1, -1,  1,\n",
              "        1, -1,  1, -1,  1,  1,  1,  1, -1, -1, -1,  1, -1, -1,  1,  1,  1,\n",
              "       -1,  1,  1, -1,  1,  1, -1, -1, -1,  1,  1,  1,  1, -1,  1])"
            ]
          },
          "metadata": {},
          "execution_count": 316
        }
      ]
    },
    {
      "cell_type": "code",
      "source": [
        "class F:\n",
        "    @staticmethod\n",
        "    def sign(x):\n",
        "        # Implement the sign activation function\n",
        "        if (x >= 0) :\n",
        "            return 1\n",
        "        elif(x < 0):\n",
        "            return -1"
      ],
      "metadata": {
        "id": "Q3qgUhUE0JH4"
      },
      "execution_count": null,
      "outputs": []
    },
    {
      "cell_type": "code",
      "source": [
        "import numpy as np\n",
        "class Perceptron:\n",
        "    def __init__(self, input_size):\n",
        "        # Initialize the weights and biases of the new model\n",
        "        self.weights = np.random.rand(input_size)\n",
        "        self.bias = np.random.rand()\n",
        "    def forward(self, input):\n",
        "        # Feed input features to your model and return output\n",
        "        return F.sign(np.dot(input, self.weights) + self.bias)"
      ],
      "metadata": {
        "id": "9hmGflz_0KnB"
      },
      "execution_count": null,
      "outputs": []
    },
    {
      "cell_type": "code",
      "source": [
        "class Optimizer:\n",
        "    def __init__(self, model):\n",
        "        self.model = model\n",
        "    def update(self, x, y, y_hat):\n",
        "        # Update weight and bias of the model\n",
        "        error = y - y_hat\n",
        "        self.model.weights += error * x\n",
        "        self.model.bias += error"
      ],
      "metadata": {
        "id": "qY_ljdXh0NW1"
      },
      "execution_count": null,
      "outputs": []
    },
    {
      "cell_type": "code",
      "source": [
        "perceptron_model = Perceptron(input_size=X.shape[1])\n",
        "optimizer = Optimizer(model=perceptron_model)"
      ],
      "metadata": {
        "id": "cGqTzH_D0Pi7"
      },
      "execution_count": null,
      "outputs": []
    },
    {
      "cell_type": "code",
      "source": [
        "n_iter = 1000\n",
        "for _ in range(n_iter):\n",
        "    for x, x2 in zip(X, y):\n",
        "        y_hat = perceptron_model.forward(x)\n",
        "        optimizer.update(x, x2, y_hat)"
      ],
      "metadata": {
        "id": "-1zNwfZ90YvN"
      },
      "execution_count": null,
      "outputs": []
    },
    {
      "cell_type": "code",
      "source": [
        "import matplotlib.pyplot as plt\n",
        "\n",
        "class_0 = X[y == -1]\n",
        "class_1 = X[y == 1]\n",
        "\n",
        "plt.figure(figsize=(8, 6))\n",
        "plt.scatter(class_0[:, 0], class_0[:, 1], color='blue', label='Class 0')\n",
        "plt.scatter(class_1[:, 0], class_1[:, 1], color='red', label='Class 1')\n",
        "\n",
        "w = perceptron_model.weights\n",
        "b = perceptron_model.bias\n",
        "x_boundary = np.linspace(np.min(X[:, 0]), np.max(X[:, 0]), 100)\n",
        "y_boundary = -(w[0] * x_boundary + b) / w[1]\n",
        "plt.plot(x_boundary, y_boundary, color='green', label='Decision Boundary')\n",
        "\n",
        "plt.title('Perceptron Decision Boundary')\n",
        "plt.xlabel('Feature 1')\n",
        "plt.ylabel('Feature 2')\n",
        "plt.legend()\n",
        "plt.grid(True)\n",
        "plt.show()"
      ],
      "metadata": {
        "colab": {
          "base_uri": "https://localhost:8080/",
          "height": 564
        },
        "id": "3y06pb1h0agh",
        "outputId": "aa081ba4-d420-4e6e-8c61-f88a9cc0fd4e"
      },
      "execution_count": null,
      "outputs": [
        {
          "output_type": "display_data",
          "data": {
            "text/plain": [
              "<Figure size 800x600 with 1 Axes>"
            ],
            "image/png": "[encoded data removed]"
          },
          "metadata": {}
        }
      ]
    }
  ]
}